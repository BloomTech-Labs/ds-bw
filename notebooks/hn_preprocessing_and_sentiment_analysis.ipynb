{
  "nbformat": 4,
  "nbformat_minor": 0,
  "metadata": {
    "colab": {
      "name": "hn_preprocessing_and_sentiment_analysis.ipynb",
      "provenance": [],
      "collapsed_sections": []
    },
    "kernelspec": {
      "name": "python3",
      "display_name": "Python 3"
    }
  },
  "cells": [
    {
      "cell_type": "markdown",
      "metadata": {
        "id": "OYCMMb9iwLqj",
        "colab_type": "text"
      },
      "source": [
        "# Calculating negative sentiment (saltiness) from Hacker News comments using Vader\n",
        "This notebook is for cleaning, modeling sentiment, and feature engineering sentiment score and rank of users and comments from a [Hacker News dataset sourced from Google BigQuery](https://console.cloud.google.com/marketplace/product/y-combinator/hacker-news)."
      ]
    },
    {
      "cell_type": "code",
      "metadata": {
        "id": "F9Wk_leRxSF0",
        "colab_type": "code",
        "colab": {
          "base_uri": "https://localhost:8080/",
          "height": 249
        },
        "outputId": "82bc2d80-f748-4710-bcf3-24c8ed722ed1"
      },
      "source": [
        "!pip install vaderSentiment\n",
        "from vaderSentiment.vaderSentiment import SentimentIntensityAnalyzer\n",
        "import pandas as pd\n",
        "import re\n",
        "import seaborn as sns"
      ],
      "execution_count": 1,
      "outputs": [
        {
          "output_type": "stream",
          "text": [
            "Collecting vaderSentiment\n",
            "\u001b[?25l  Downloading https://files.pythonhosted.org/packages/76/fc/310e16254683c1ed35eeb97386986d6c00bc29df17ce280aed64d55537e9/vaderSentiment-3.3.2-py2.py3-none-any.whl (125kB)\n",
            "\r\u001b[K     |██▋                             | 10kB 15.8MB/s eta 0:00:01\r\u001b[K     |█████▏                          | 20kB 6.6MB/s eta 0:00:01\r\u001b[K     |███████▉                        | 30kB 6.7MB/s eta 0:00:01\r\u001b[K     |██████████▍                     | 40kB 8.3MB/s eta 0:00:01\r\u001b[K     |█████████████                   | 51kB 6.9MB/s eta 0:00:01\r\u001b[K     |███████████████▋                | 61kB 8.0MB/s eta 0:00:01\r\u001b[K     |██████████████████▏             | 71kB 8.6MB/s eta 0:00:01\r\u001b[K     |████████████████████▉           | 81kB 9.4MB/s eta 0:00:01\r\u001b[K     |███████████████████████▍        | 92kB 9.3MB/s eta 0:00:01\r\u001b[K     |██████████████████████████      | 102kB 9.0MB/s eta 0:00:01\r\u001b[K     |████████████████████████████▋   | 112kB 9.0MB/s eta 0:00:01\r\u001b[K     |███████████████████████████████▏| 122kB 9.0MB/s eta 0:00:01\r\u001b[K     |████████████████████████████████| 133kB 9.0MB/s \n",
            "\u001b[?25hRequirement already satisfied: requests in /usr/local/lib/python3.6/dist-packages (from vaderSentiment) (2.23.0)\n",
            "Requirement already satisfied: certifi>=2017.4.17 in /usr/local/lib/python3.6/dist-packages (from requests->vaderSentiment) (2020.6.20)\n",
            "Requirement already satisfied: chardet<4,>=3.0.2 in /usr/local/lib/python3.6/dist-packages (from requests->vaderSentiment) (3.0.4)\n",
            "Requirement already satisfied: idna<3,>=2.5 in /usr/local/lib/python3.6/dist-packages (from requests->vaderSentiment) (2.10)\n",
            "Requirement already satisfied: urllib3!=1.25.0,!=1.25.1,<1.26,>=1.21.1 in /usr/local/lib/python3.6/dist-packages (from requests->vaderSentiment) (1.24.3)\n",
            "Installing collected packages: vaderSentiment\n",
            "Successfully installed vaderSentiment-3.3.2\n"
          ],
          "name": "stdout"
        },
        {
          "output_type": "stream",
          "text": [
            "/usr/local/lib/python3.6/dist-packages/statsmodels/tools/_testing.py:19: FutureWarning: pandas.util.testing is deprecated. Use the functions in the public API at pandas.testing instead.\n",
            "  import pandas.util.testing as tm\n"
          ],
          "name": "stderr"
        }
      ]
    },
    {
      "cell_type": "markdown",
      "metadata": {
        "id": "qZyUrS019fax",
        "colab_type": "text"
      },
      "source": [
        "# Data Cleaning\n",
        "The Hacker News dataset was split into 12 chunks so it could be stored on GitHub without exceeding the file size limit of 100mb. Here, we read in and concatenate each of those 12 datasets."
      ]
    },
    {
      "cell_type": "code",
      "metadata": {
        "id": "6VImgCOUtQ-R",
        "colab_type": "code",
        "colab": {}
      },
      "source": [
        "def load_data(seed: str = f'https://github.com/Salty-Hackers/' \\\n",
        "              'data-engineering/blob/main/Data/hn_',\n",
        "              num: int = 11, limit: int = 500000) -> pd.DataFrame:\n",
        "    \n",
        "    assert isinstance(num, int), 'Num must be integer.'\n",
        "    assert 0 <= num <= 11, 'Num must be between 0 and 11.'\n",
        "    \n",
        "    urls = [seed + f'{i}.csv?raw=true' for i in range(num)]\n",
        "    cols = ['author', 'time_ts', 'text']\n",
        "    df = pd.concat(\n",
        "        (pd.read_csv(url, usecols=cols) for url in urls)) \\\n",
        "        .reset_index().drop(columns='index')\n",
        "    \n",
        "    # Return most recent non-NaN rows, default 500,000\n",
        "    return df.dropna().sort_values(by='time_ts', ascending=False)[:limit]"
      ],
      "execution_count": 2,
      "outputs": []
    },
    {
      "cell_type": "code",
      "metadata": {
        "id": "UHMhsDchHVyB",
        "colab_type": "code",
        "colab": {}
      },
      "source": [
        "def preprocess(df: pd.DataFrame, text_col: str ='text',\n",
        "            date_col: str = 'time_ts') -> pd.DataFrame:\n",
        "  \"\"\"\n",
        "  Takes dataframe, column (default 'text'). Returns df with no HTML, emails\n",
        "  URLs, hexadecimal, or multi/leading/trailing spaces in that column.\n",
        "  Renames text_col and date_col, drops microseconds from date_col, and \n",
        "  converts it to datetime.\n",
        "  \"\"\"\n",
        "\n",
        "  # Make shallow copy to preserve original\n",
        "  df = df[:]\n",
        "  \n",
        "  # Remove HTML tags\n",
        "  df[text_col] = df[text_col].apply(\n",
        "      lambda comment: re.sub(r'<.*?>', ' ', comment))\n",
        "  \n",
        "  # Remove emails\n",
        "  df[text_col] = df[text_col].apply(\n",
        "      lambda comment: re.sub(r'[\\w.]+@\\w+\\.[a-z]{3}', '', comment))\n",
        "  \n",
        "  # Remove URLs\n",
        "  df[text_col] = df[text_col].apply(\n",
        "      lambda comment: re.sub(\n",
        "          r'http[s]?(?:[a-zA-Z]|[0-9]|[$-_@.&+#]|[!*\\(\\),]|'\\\n",
        "          '(?:%[0-9a-fA-F][0-9a-fA-F]))+','', comment))\n",
        "  \n",
        "  # Remove punctuation encoding\n",
        "  df[text_col] = df[text_col].apply(\n",
        "      lambda comment: re.sub(r'&.*?;', '', comment))\n",
        "  \n",
        "  # Remove multi-spaces and leading/trailing whitespace characters\n",
        "  df[text_col] = df[text_col].apply(\n",
        "      lambda comment: re.sub(r'\\s{2,}', ' ', comment).strip())\n",
        "  \n",
        "  # Rename text_col to 'comment'\n",
        "  df = df.rename(columns={text_col: 'comment'})\n",
        "  \n",
        "  # Rename 'author' to 'user'\n",
        "  df = df.rename(columns={'author': 'user'})\n",
        "  \n",
        "  # Remove microseconds from date_col\n",
        "  df[date_col] = df[date_col].apply(\n",
        "      lambda date: date.split('+')[0])\n",
        "  \n",
        "  # Convert to date_time and rename, drop date_col\n",
        "  df['date_time'] = pd.to_datetime(df[date_col], infer_datetime_format=True)\n",
        "  df = df.drop(columns=date_col)\n",
        "\n",
        "  return df"
      ],
      "execution_count": 3,
      "outputs": []
    },
    {
      "cell_type": "code",
      "metadata": {
        "id": "uYCBknpaPoEK",
        "colab_type": "code",
        "colab": {
          "base_uri": "https://localhost:8080/",
          "height": 618
        },
        "outputId": "ded8d6d8-4f51-4c3c-d1af-32d86210189c"
      },
      "source": [
        "hn_comments = preprocess(load_data())\n",
        "\n",
        "print(hn_comments.info())\n",
        "hn_comments"
      ],
      "execution_count": 4,
      "outputs": [
        {
          "output_type": "stream",
          "text": [
            "<class 'pandas.core.frame.DataFrame'>\n",
            "Int64Index: 500000 entries, 0 to 514090\n",
            "Data columns (total 3 columns):\n",
            " #   Column     Non-Null Count   Dtype         \n",
            "---  ------     --------------   -----         \n",
            " 0   user       500000 non-null  object        \n",
            " 1   comment    500000 non-null  object        \n",
            " 2   date_time  500000 non-null  datetime64[ns]\n",
            "dtypes: datetime64[ns](1), object(2)\n",
            "memory usage: 15.3+ MB\n",
            "None\n"
          ],
          "name": "stdout"
        },
        {
          "output_type": "execute_result",
          "data": {
            "text/html": [
              "<div>\n",
              "<style scoped>\n",
              "    .dataframe tbody tr th:only-of-type {\n",
              "        vertical-align: middle;\n",
              "    }\n",
              "\n",
              "    .dataframe tbody tr th {\n",
              "        vertical-align: top;\n",
              "    }\n",
              "\n",
              "    .dataframe thead th {\n",
              "        text-align: right;\n",
              "    }\n",
              "</style>\n",
              "<table border=\"1\" class=\"dataframe\">\n",
              "  <thead>\n",
              "    <tr style=\"text-align: right;\">\n",
              "      <th></th>\n",
              "      <th>user</th>\n",
              "      <th>comment</th>\n",
              "      <th>date_time</th>\n",
              "    </tr>\n",
              "  </thead>\n",
              "  <tbody>\n",
              "    <tr>\n",
              "      <th>0</th>\n",
              "      <td>rhaps0dy</td>\n",
              "      <td>Im not sure how much of it has been proven, bu...</td>\n",
              "      <td>2015-10-13 08:44:02</td>\n",
              "    </tr>\n",
              "    <tr>\n",
              "      <th>1</th>\n",
              "      <td>pixelHD</td>\n",
              "      <td>Minecraft eh? I did the same with GTA San Andr...</td>\n",
              "      <td>2015-10-13 08:43:24</td>\n",
              "    </tr>\n",
              "    <tr>\n",
              "      <th>2</th>\n",
              "      <td>test1235</td>\n",
              "      <td>I think the closest universal interest for me ...</td>\n",
              "      <td>2015-10-13 08:41:45</td>\n",
              "    </tr>\n",
              "    <tr>\n",
              "      <th>3</th>\n",
              "      <td>copsarebastards</td>\n",
              "      <td>Why do you care about the success of the techn...</td>\n",
              "      <td>2015-10-13 08:40:45</td>\n",
              "    </tr>\n",
              "    <tr>\n",
              "      <th>4</th>\n",
              "      <td>spike021</td>\n",
              "      <td>What kinds of ramifications would there be if ...</td>\n",
              "      <td>2015-10-13 08:40:23</td>\n",
              "    </tr>\n",
              "    <tr>\n",
              "      <th>...</th>\n",
              "      <td>...</td>\n",
              "      <td>...</td>\n",
              "      <td>...</td>\n",
              "    </tr>\n",
              "    <tr>\n",
              "      <th>514086</th>\n",
              "      <td>donaldmcintyre</td>\n",
              "      <td>Hi kjkdf, I did some changes, I would apprecia...</td>\n",
              "      <td>2015-06-21 21:48:12</td>\n",
              "    </tr>\n",
              "    <tr>\n",
              "      <th>514087</th>\n",
              "      <td>busterarm</td>\n",
              "      <td>As another separate point that Id like here bu...</td>\n",
              "      <td>2015-06-21 21:47:08</td>\n",
              "    </tr>\n",
              "    <tr>\n",
              "      <th>514088</th>\n",
              "      <td>omni</td>\n",
              "      <td>1. The decision making process here was unsoun...</td>\n",
              "      <td>2015-06-21 21:46:34</td>\n",
              "    </tr>\n",
              "    <tr>\n",
              "      <th>514089</th>\n",
              "      <td>A_COMPUTER</td>\n",
              "      <td>Arguably faking a government identification in...</td>\n",
              "      <td>2015-06-21 21:46:32</td>\n",
              "    </tr>\n",
              "    <tr>\n",
              "      <th>514090</th>\n",
              "      <td>neamar</td>\n",
              "      <td>Its built to be different. No fancy apo drawer...</td>\n",
              "      <td>2015-06-21 21:46:31</td>\n",
              "    </tr>\n",
              "  </tbody>\n",
              "</table>\n",
              "<p>500000 rows × 3 columns</p>\n",
              "</div>"
            ],
            "text/plain": [
              "                   user  ...           date_time\n",
              "0              rhaps0dy  ... 2015-10-13 08:44:02\n",
              "1               pixelHD  ... 2015-10-13 08:43:24\n",
              "2              test1235  ... 2015-10-13 08:41:45\n",
              "3       copsarebastards  ... 2015-10-13 08:40:45\n",
              "4              spike021  ... 2015-10-13 08:40:23\n",
              "...                 ...  ...                 ...\n",
              "514086   donaldmcintyre  ... 2015-06-21 21:48:12\n",
              "514087        busterarm  ... 2015-06-21 21:47:08\n",
              "514088             omni  ... 2015-06-21 21:46:34\n",
              "514089       A_COMPUTER  ... 2015-06-21 21:46:32\n",
              "514090           neamar  ... 2015-06-21 21:46:31\n",
              "\n",
              "[500000 rows x 3 columns]"
            ]
          },
          "metadata": {
            "tags": []
          },
          "execution_count": 4
        }
      ]
    },
    {
      "cell_type": "markdown",
      "metadata": {
        "id": "phtYKu5ey8yI",
        "colab_type": "text"
      },
      "source": [
        "# Functions to estimate sentiment using Vader"
      ]
    },
    {
      "cell_type": "code",
      "metadata": {
        "id": "6eReyFP8zTlR",
        "colab_type": "code",
        "colab": {}
      },
      "source": [
        "analyzer = SentimentIntensityAnalyzer()\n",
        "\n",
        "def get_sentiment_score(comment: str) -> float:\n",
        "  \"\"\"\n",
        "  Returns normalized composite score from [-1, 1], weighted by intensity.\n",
        "  -1 is most negative, 1 is most positive.\n",
        "  \"\"\"\n",
        "  sentiment_dict = analyzer.polarity_scores(comment)\n",
        "  return sentiment_dict['compound']"
      ],
      "execution_count": 5,
      "outputs": []
    },
    {
      "cell_type": "code",
      "metadata": {
        "id": "x97Y06twKJFF",
        "colab_type": "code",
        "colab": {}
      },
      "source": [
        "def get_sentiment(score: float, thresh=0.05) -> str:\n",
        "  \"\"\"\n",
        "  Engineers sentiment (positive, negative, neutral) \n",
        "  based on sentiment score [-1, 1].\n",
        "  \n",
        "  Default thresholds:\n",
        "    positive: compound score >= 0.05\n",
        "    neutral: 0.05 > compound score > -0.05\n",
        "    negative: compound score <= -0.05\n",
        "  \"\"\"\n",
        "  assert isinstance(\n",
        "      score, (float, int)), 'Sentiment score must be float or int.'\n",
        "  assert isinstance(\n",
        "      thresh, (float, int)), 'Threshold must be float or int.'\n",
        "  \n",
        "  assert -1 <= score <= 1, 'Sentiment score must be between -1 and 1.'\n",
        "  assert 0 < thresh < 1, 'Threshold must be between 0 and 1.'\n",
        "  \n",
        "  if score >= thresh:\n",
        "    return 'positive'\n",
        "  elif score <= -thresh:\n",
        "    return 'negative'\n",
        "  \n",
        "  return 'neutral'"
      ],
      "execution_count": 6,
      "outputs": []
    },
    {
      "cell_type": "markdown",
      "metadata": {
        "id": "8h4MDcWpikup",
        "colab_type": "text"
      },
      "source": [
        "## Estimate and engineer features for sentiment"
      ]
    },
    {
      "cell_type": "code",
      "metadata": {
        "id": "5tz8YA_CYiNH",
        "colab_type": "code",
        "colab": {
          "base_uri": "https://localhost:8080/",
          "height": 777
        },
        "outputId": "2fff0eed-922f-4e4d-c54f-d056385e9620"
      },
      "source": [
        "# First function takes around 15 minutes\n",
        "\n",
        "# Feature engineer sentiment score for each comment\n",
        "hn_comments['sentiment_score'] = hn_comments['comment'] \\\n",
        ".apply(lambda comment: get_sentiment_score(comment))\n",
        "\n",
        "# Feature engineer overall sentiment for each comment\n",
        "hn_comments['sentiment'] = hn_comments['sentiment_score'] \\\n",
        ".apply(lambda score: get_sentiment(score))\n",
        "\n",
        "# Reorder columns so comment is first\n",
        "hn_comments = hn_comments[['comment', \n",
        "                           'user', \n",
        "                           'date_time', \n",
        "                           'sentiment_score', \n",
        "                           'sentiment']\n",
        "                          ]\n",
        "\n",
        "print(hn_comments.info(), end='\\n\\n')\n",
        "print(hn_comments.nunique())\n",
        "hn_comments"
      ],
      "execution_count": 7,
      "outputs": [
        {
          "output_type": "stream",
          "text": [
            "<class 'pandas.core.frame.DataFrame'>\n",
            "Int64Index: 500000 entries, 0 to 514090\n",
            "Data columns (total 5 columns):\n",
            " #   Column           Non-Null Count   Dtype         \n",
            "---  ------           --------------   -----         \n",
            " 0   comment          500000 non-null  object        \n",
            " 1   user             500000 non-null  object        \n",
            " 2   date_time        500000 non-null  datetime64[ns]\n",
            " 3   sentiment_score  500000 non-null  float64       \n",
            " 4   sentiment        500000 non-null  object        \n",
            "dtypes: datetime64[ns](1), float64(1), object(3)\n",
            "memory usage: 22.9+ MB\n",
            "None\n",
            "\n",
            "comment            493306\n",
            "user                48408\n",
            "date_time          484239\n",
            "sentiment_score     18816\n",
            "sentiment               3\n",
            "dtype: int64\n"
          ],
          "name": "stdout"
        },
        {
          "output_type": "execute_result",
          "data": {
            "text/html": [
              "<div>\n",
              "<style scoped>\n",
              "    .dataframe tbody tr th:only-of-type {\n",
              "        vertical-align: middle;\n",
              "    }\n",
              "\n",
              "    .dataframe tbody tr th {\n",
              "        vertical-align: top;\n",
              "    }\n",
              "\n",
              "    .dataframe thead th {\n",
              "        text-align: right;\n",
              "    }\n",
              "</style>\n",
              "<table border=\"1\" class=\"dataframe\">\n",
              "  <thead>\n",
              "    <tr style=\"text-align: right;\">\n",
              "      <th></th>\n",
              "      <th>comment</th>\n",
              "      <th>user</th>\n",
              "      <th>date_time</th>\n",
              "      <th>sentiment_score</th>\n",
              "      <th>sentiment</th>\n",
              "    </tr>\n",
              "  </thead>\n",
              "  <tbody>\n",
              "    <tr>\n",
              "      <th>0</th>\n",
              "      <td>Im not sure how much of it has been proven, bu...</td>\n",
              "      <td>rhaps0dy</td>\n",
              "      <td>2015-10-13 08:44:02</td>\n",
              "      <td>0.4440</td>\n",
              "      <td>positive</td>\n",
              "    </tr>\n",
              "    <tr>\n",
              "      <th>1</th>\n",
              "      <td>Minecraft eh? I did the same with GTA San Andr...</td>\n",
              "      <td>pixelHD</td>\n",
              "      <td>2015-10-13 08:43:24</td>\n",
              "      <td>0.6114</td>\n",
              "      <td>positive</td>\n",
              "    </tr>\n",
              "    <tr>\n",
              "      <th>2</th>\n",
              "      <td>I think the closest universal interest for me ...</td>\n",
              "      <td>test1235</td>\n",
              "      <td>2015-10-13 08:41:45</td>\n",
              "      <td>0.9674</td>\n",
              "      <td>positive</td>\n",
              "    </tr>\n",
              "    <tr>\n",
              "      <th>3</th>\n",
              "      <td>Why do you care about the success of the techn...</td>\n",
              "      <td>copsarebastards</td>\n",
              "      <td>2015-10-13 08:40:45</td>\n",
              "      <td>0.9444</td>\n",
              "      <td>positive</td>\n",
              "    </tr>\n",
              "    <tr>\n",
              "      <th>4</th>\n",
              "      <td>What kinds of ramifications would there be if ...</td>\n",
              "      <td>spike021</td>\n",
              "      <td>2015-10-13 08:40:23</td>\n",
              "      <td>-0.3400</td>\n",
              "      <td>negative</td>\n",
              "    </tr>\n",
              "    <tr>\n",
              "      <th>...</th>\n",
              "      <td>...</td>\n",
              "      <td>...</td>\n",
              "      <td>...</td>\n",
              "      <td>...</td>\n",
              "      <td>...</td>\n",
              "    </tr>\n",
              "    <tr>\n",
              "      <th>514086</th>\n",
              "      <td>Hi kjkdf, I did some changes, I would apprecia...</td>\n",
              "      <td>donaldmcintyre</td>\n",
              "      <td>2015-06-21 21:48:12</td>\n",
              "      <td>0.6696</td>\n",
              "      <td>positive</td>\n",
              "    </tr>\n",
              "    <tr>\n",
              "      <th>514087</th>\n",
              "      <td>As another separate point that Id like here bu...</td>\n",
              "      <td>busterarm</td>\n",
              "      <td>2015-06-21 21:47:08</td>\n",
              "      <td>0.9700</td>\n",
              "      <td>positive</td>\n",
              "    </tr>\n",
              "    <tr>\n",
              "      <th>514088</th>\n",
              "      <td>1. The decision making process here was unsoun...</td>\n",
              "      <td>omni</td>\n",
              "      <td>2015-06-21 21:46:34</td>\n",
              "      <td>-0.4011</td>\n",
              "      <td>negative</td>\n",
              "    </tr>\n",
              "    <tr>\n",
              "      <th>514089</th>\n",
              "      <td>Arguably faking a government identification in...</td>\n",
              "      <td>A_COMPUTER</td>\n",
              "      <td>2015-06-21 21:46:32</td>\n",
              "      <td>-0.8442</td>\n",
              "      <td>negative</td>\n",
              "    </tr>\n",
              "    <tr>\n",
              "      <th>514090</th>\n",
              "      <td>Its built to be different. No fancy apo drawer...</td>\n",
              "      <td>neamar</td>\n",
              "      <td>2015-06-21 21:46:31</td>\n",
              "      <td>0.8088</td>\n",
              "      <td>positive</td>\n",
              "    </tr>\n",
              "  </tbody>\n",
              "</table>\n",
              "<p>500000 rows × 5 columns</p>\n",
              "</div>"
            ],
            "text/plain": [
              "                                                  comment  ... sentiment\n",
              "0       Im not sure how much of it has been proven, bu...  ...  positive\n",
              "1       Minecraft eh? I did the same with GTA San Andr...  ...  positive\n",
              "2       I think the closest universal interest for me ...  ...  positive\n",
              "3       Why do you care about the success of the techn...  ...  positive\n",
              "4       What kinds of ramifications would there be if ...  ...  negative\n",
              "...                                                   ...  ...       ...\n",
              "514086  Hi kjkdf, I did some changes, I would apprecia...  ...  positive\n",
              "514087  As another separate point that Id like here bu...  ...  positive\n",
              "514088  1. The decision making process here was unsoun...  ...  negative\n",
              "514089  Arguably faking a government identification in...  ...  negative\n",
              "514090  Its built to be different. No fancy apo drawer...  ...  positive\n",
              "\n",
              "[500000 rows x 5 columns]"
            ]
          },
          "metadata": {
            "tags": []
          },
          "execution_count": 7
        }
      ]
    },
    {
      "cell_type": "code",
      "metadata": {
        "id": "DuH4s3Ml4F2m",
        "colab_type": "code",
        "colab": {
          "base_uri": "https://localhost:8080/",
          "height": 280
        },
        "outputId": "862cdc55-1261-4c8b-ec03-ff4249635380"
      },
      "source": [
        "sns.distplot(hn_comments['sentiment_score']);"
      ],
      "execution_count": 8,
      "outputs": [
        {
          "output_type": "display_data",
          "data": {
            "image/png": "[encoded data removed]",
            "text/plain": [
              "<Figure size 432x288 with 1 Axes>"
            ]
          },
          "metadata": {
            "tags": [],
            "needs_background": "light"
          }
        }
      ]
    },
    {
      "cell_type": "markdown",
      "metadata": {
        "id": "zN4x2hZNjAPY",
        "colab_type": "text"
      },
      "source": [
        "## Feature engineer average sentiment, sentiment ranking, and number of comments"
      ]
    },
    {
      "cell_type": "code",
      "metadata": {
        "id": "QA635wyGr2pJ",
        "colab_type": "code",
        "colab": {
          "base_uri": "https://localhost:8080/",
          "height": 742
        },
        "outputId": "9a1ce6d0-f6ef-4d38-8cae-2eec8b64f3f1"
      },
      "source": [
        "hn_users = hn_comments.groupby(\n",
        "    ['user'])['sentiment_score'].mean().reset_index()\n",
        "\n",
        "# Reassign column names\n",
        "hn_users.columns = ['user', 'avg_sentiment_score']\n",
        "\n",
        "hn_users['num_comments'] = hn_comments['user'] \\\n",
        ".value_counts().sort_index().values\n",
        "\n",
        "# Order by avg_sentiment_score then reset index so index 0 is saltiest\n",
        "hn_users = hn_users \\\n",
        ".sort_values(by='avg_sentiment_score', axis=0, ascending=True) \\\n",
        ".reset_index().drop(columns='index')\n",
        "\n",
        "# feature engineer a ranking for users: index 0 is rank 1, etc.)\n",
        "hn_users['sentiment_ranking'] = hn_users['avg_sentiment_score'] \\\n",
        ".index.values + 1\n",
        "\n",
        "print(hn_users.info(), end='\\n\\n')\n",
        "print(hn_users.nunique())\n",
        "hn_users"
      ],
      "execution_count": 9,
      "outputs": [
        {
          "output_type": "stream",
          "text": [
            "<class 'pandas.core.frame.DataFrame'>\n",
            "RangeIndex: 48408 entries, 0 to 48407\n",
            "Data columns (total 4 columns):\n",
            " #   Column               Non-Null Count  Dtype  \n",
            "---  ------               --------------  -----  \n",
            " 0   user                 48408 non-null  object \n",
            " 1   avg_sentiment_score  48408 non-null  float64\n",
            " 2   num_comments         48408 non-null  int64  \n",
            " 3   sentiment_ranking    48408 non-null  int64  \n",
            "dtypes: float64(1), int64(2), object(1)\n",
            "memory usage: 1.5+ MB\n",
            "None\n",
            "\n",
            "user                   48408\n",
            "avg_sentiment_score    30183\n",
            "num_comments             375\n",
            "sentiment_ranking      48408\n",
            "dtype: int64\n"
          ],
          "name": "stdout"
        },
        {
          "output_type": "execute_result",
          "data": {
            "text/html": [
              "<div>\n",
              "<style scoped>\n",
              "    .dataframe tbody tr th:only-of-type {\n",
              "        vertical-align: middle;\n",
              "    }\n",
              "\n",
              "    .dataframe tbody tr th {\n",
              "        vertical-align: top;\n",
              "    }\n",
              "\n",
              "    .dataframe thead th {\n",
              "        text-align: right;\n",
              "    }\n",
              "</style>\n",
              "<table border=\"1\" class=\"dataframe\">\n",
              "  <thead>\n",
              "    <tr style=\"text-align: right;\">\n",
              "      <th></th>\n",
              "      <th>user</th>\n",
              "      <th>avg_sentiment_score</th>\n",
              "      <th>num_comments</th>\n",
              "      <th>sentiment_ranking</th>\n",
              "    </tr>\n",
              "  </thead>\n",
              "  <tbody>\n",
              "    <tr>\n",
              "      <th>0</th>\n",
              "      <td>tgroshon</td>\n",
              "      <td>-0.997800</td>\n",
              "      <td>1</td>\n",
              "      <td>1</td>\n",
              "    </tr>\n",
              "    <tr>\n",
              "      <th>1</th>\n",
              "      <td>anonfornow</td>\n",
              "      <td>-0.997300</td>\n",
              "      <td>1</td>\n",
              "      <td>2</td>\n",
              "    </tr>\n",
              "    <tr>\n",
              "      <th>2</th>\n",
              "      <td>I_dont_know</td>\n",
              "      <td>-0.997000</td>\n",
              "      <td>1</td>\n",
              "      <td>3</td>\n",
              "    </tr>\n",
              "    <tr>\n",
              "      <th>3</th>\n",
              "      <td>Mike999</td>\n",
              "      <td>-0.996667</td>\n",
              "      <td>3</td>\n",
              "      <td>4</td>\n",
              "    </tr>\n",
              "    <tr>\n",
              "      <th>4</th>\n",
              "      <td>K6YtXAfA</td>\n",
              "      <td>-0.995600</td>\n",
              "      <td>1</td>\n",
              "      <td>5</td>\n",
              "    </tr>\n",
              "    <tr>\n",
              "      <th>...</th>\n",
              "      <td>...</td>\n",
              "      <td>...</td>\n",
              "      <td>...</td>\n",
              "      <td>...</td>\n",
              "    </tr>\n",
              "    <tr>\n",
              "      <th>48403</th>\n",
              "      <td>dharmon</td>\n",
              "      <td>0.999000</td>\n",
              "      <td>1</td>\n",
              "      <td>48404</td>\n",
              "    </tr>\n",
              "    <tr>\n",
              "      <th>48404</th>\n",
              "      <td>jwpeppa</td>\n",
              "      <td>0.999000</td>\n",
              "      <td>1</td>\n",
              "      <td>48405</td>\n",
              "    </tr>\n",
              "    <tr>\n",
              "      <th>48405</th>\n",
              "      <td>almaIV</td>\n",
              "      <td>0.999100</td>\n",
              "      <td>1</td>\n",
              "      <td>48406</td>\n",
              "    </tr>\n",
              "    <tr>\n",
              "      <th>48406</th>\n",
              "      <td>LorenzoLlamas</td>\n",
              "      <td>0.999200</td>\n",
              "      <td>1</td>\n",
              "      <td>48407</td>\n",
              "    </tr>\n",
              "    <tr>\n",
              "      <th>48407</th>\n",
              "      <td>mrdazm</td>\n",
              "      <td>0.999200</td>\n",
              "      <td>1</td>\n",
              "      <td>48408</td>\n",
              "    </tr>\n",
              "  </tbody>\n",
              "</table>\n",
              "<p>48408 rows × 4 columns</p>\n",
              "</div>"
            ],
            "text/plain": [
              "                user  avg_sentiment_score  num_comments  sentiment_ranking\n",
              "0           tgroshon            -0.997800             1                  1\n",
              "1         anonfornow            -0.997300             1                  2\n",
              "2        I_dont_know            -0.997000             1                  3\n",
              "3            Mike999            -0.996667             3                  4\n",
              "4           K6YtXAfA            -0.995600             1                  5\n",
              "...              ...                  ...           ...                ...\n",
              "48403        dharmon             0.999000             1              48404\n",
              "48404        jwpeppa             0.999000             1              48405\n",
              "48405         almaIV             0.999100             1              48406\n",
              "48406  LorenzoLlamas             0.999200             1              48407\n",
              "48407         mrdazm             0.999200             1              48408\n",
              "\n",
              "[48408 rows x 4 columns]"
            ]
          },
          "metadata": {
            "tags": []
          },
          "execution_count": 9
        }
      ]
    },
    {
      "cell_type": "markdown",
      "metadata": {
        "id": "IIFlhPqe0Ris",
        "colab_type": "text"
      },
      "source": [
        "# Data Dictionary\n",
        "### hn_comments\n",
        "- `comment`: string, the text of a user's comment\n",
        "- `user`: string, the username of the Hacker News commenter\n",
        "- `date_time`: datetime, format %y/%m/%d/%H/%M/%S\n",
        "- `sentiment_score`: float, Vader's composite sentiment score, normalized between [-1, 1], weighted by intensity. -1 is most negative, 1 is most positive, and 0 is most neutral.\n",
        "- `sentiment`: string, the overall sentiment of the comment based on the `sentiment_score`\n",
        "\n",
        "### hn_users\n",
        "- `user`: string, the username of the Hacker News commenter\n",
        "- `avg_sentiment_score`: float from [-1, 1], the arithmetic mean of the sentiment of user's comments. \n",
        "- `num_comments`: nonnegative integer, the total number of comments by a user \n",
        "- `sentiment_ranking`: positive integer, the \"saltiness rank\" of a user. 1 is saltiest, 2 is second saltiest, etc."
      ]
    },
    {
      "cell_type": "markdown",
      "metadata": {
        "id": "uoTDbTE50LvP",
        "colab_type": "text"
      },
      "source": [
        "Every row in `hn_comments` is a comment, and every column is a feature of that comment.\n",
        "\n",
        "Every row in `hn_users` is a user, and every column is a features of that user."
      ]
    },
    {
      "cell_type": "markdown",
      "metadata": {
        "id": "S5_fhol-zFlQ",
        "colab_type": "text"
      },
      "source": [
        "# Save dataframes to csv files"
      ]
    },
    {
      "cell_type": "code",
      "metadata": {
        "id": "98kRO2DGv0Rv",
        "colab_type": "code",
        "colab": {}
      },
      "source": [
        "from google.colab import files\n",
        "hn_comments.to_csv('hn_comments.csv')\n",
        "hn_users.to_csv('hn_users.csv')"
      ],
      "execution_count": null,
      "outputs": []
    },
    {
      "cell_type": "markdown",
      "metadata": {
        "id": "IeNRoyhJbXGQ",
        "colab_type": "text"
      },
      "source": [
        "# Save dataframes to sqlite3 database"
      ]
    },
    {
      "cell_type": "code",
      "metadata": {
        "id": "jlfI9t-PbMNM",
        "colab_type": "code",
        "colab": {}
      },
      "source": [
        "import sqlite3\n",
        "\n",
        "conn = sqlite3.connect('hn.db')\n",
        "curs = conn.cursor()\n",
        "hn_users.to_sql(name='hn_users', con=conn, if_exists='replace')\n",
        "hn_comments.to_sql(name='hn_comments', con=conn, if_exists='replace')"
      ],
      "execution_count": null,
      "outputs": []
    }
  ]
}